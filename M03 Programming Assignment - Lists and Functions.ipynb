{
 "cells": [
  {
   "cell_type": "code",
   "execution_count": 5,
   "id": "c9b4126e",
   "metadata": {},
   "outputs": [],
   "source": [
    "Things = [\"mozzarella\", \"cinderella\", \"salmonella\"]"
   ]
  },
  {
   "cell_type": "code",
   "execution_count": 6,
   "id": "5e7591e9",
   "metadata": {},
   "outputs": [
    {
     "name": "stdout",
     "output_type": "stream",
     "text": [
      "['mozzarella', 'Cinderella', 'salmonella']\n"
     ]
    }
   ],
   "source": [
    "Things = [\"mozzarella\", \"Cinderella\", \"salmonella\"]\n",
    "print(Things)"
   ]
  },
  {
   "cell_type": "code",
   "execution_count": 7,
   "id": "b76c7730",
   "metadata": {},
   "outputs": [
    {
     "name": "stdout",
     "output_type": "stream",
     "text": [
      "['MOZZARELLA', 'Cinderella', 'salmonella']\n"
     ]
    }
   ],
   "source": [
    "Things = [\"MOZZARELLA\", \"Cinderella\", \"salmonella\"]\n",
    "print(Things)"
   ]
  },
  {
   "cell_type": "code",
   "execution_count": 8,
   "id": "0bc1b192",
   "metadata": {
    "scrolled": true
   },
   "outputs": [
    {
     "name": "stdout",
     "output_type": "stream",
     "text": [
      "['MOZZARELLA', 'Cinderella']\n"
     ]
    }
   ],
   "source": [
    "Things = [\"MOZZARELLA\", \"Cinderella\",]\n",
    "print(Things)"
   ]
  },
  {
   "cell_type": "code",
   "execution_count": 11,
   "id": "3d1bf1f3",
   "metadata": {},
   "outputs": [
    {
     "name": "stdout",
     "output_type": "stream",
     "text": [
      "['Harry', 'Ron', 'Hermione']\n"
     ]
    }
   ],
   "source": [
    "def good():\n",
    "    return ['Harry', 'Ron', 'Hermione']\n",
    "result = good()\n",
    "print(result)"
   ]
  },
  {
   "cell_type": "code",
   "execution_count": 14,
   "id": "bd7abdf8",
   "metadata": {},
   "outputs": [
    {
     "name": "stdout",
     "output_type": "stream",
     "text": [
      "[1, 3, 5, 7, 9]\n",
      "Third odd value: 5\n"
     ]
    }
   ],
   "source": [
    "def get_odds():\n",
    "    return list(range(1, 10, 2))\n",
    "    \n",
    "odd_numbers = get_odds()\n",
    "print(odd_numbers)\n",
    "\n",
    "count = 0\n",
    "for value in get_odds():\n",
    "    count += 1\n",
    "    if count == 3:\n",
    "        print(\"Third odd value:\", value)\n",
    "        break"
   ]
  }
 ],
 "metadata": {
  "kernelspec": {
   "display_name": "Python 3 (ipykernel)",
   "language": "python",
   "name": "python3"
  },
  "language_info": {
   "codemirror_mode": {
    "name": "ipython",
    "version": 3
   },
   "file_extension": ".py",
   "mimetype": "text/x-python",
   "name": "python",
   "nbconvert_exporter": "python",
   "pygments_lexer": "ipython3",
   "version": "3.11.5"
  }
 },
 "nbformat": 4,
 "nbformat_minor": 5
}
